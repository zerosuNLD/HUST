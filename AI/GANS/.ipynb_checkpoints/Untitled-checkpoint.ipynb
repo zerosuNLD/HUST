{
 "cells": [
  {
   "cell_type": "code",
   "execution_count": 3,
   "id": "38dd6366-ec5a-4853-bb09-315194124b43",
   "metadata": {},
   "outputs": [],
   "source": [
    "# Thêm thư viện\n",
    "from keras.datasets import mnist\n",
    "from keras.utils import np_utils\n",
    "from keras.models import Sequential, Model\n",
    "from keras.layers import Input, Dense, Dropout, Activation, Flatten\n",
    "from keras.layers import LeakyReLU\n",
    "from keras.optimizers import Adam, RMSprop\n",
    "import numpy as np\n",
    "import matplotlib.pyplot as plt\n",
    "import random\n",
    "from tqdm import tqdm_notebook"
   ]
  },
  {
   "cell_type": "code",
   "execution_count": 12,
   "id": "7ff9304d-64b9-499e-bc3e-edcf8353e508",
   "metadata": {},
   "outputs": [],
   "source": [
    "# Lấy dữ liệu từ bộ MNIST\n",
    "(X_train, _), (X_test, _) = mnist.load_data()"
   ]
  },
  {
   "cell_type": "code",
   "execution_count": 6,
   "id": "ae7cf658-4194-4823-b7a7-6fc83732eaf7",
   "metadata": {},
   "outputs": [
    {
     "data": {
      "text/plain": [
       "(60000, 28, 28)"
      ]
     },
     "execution_count": 6,
     "metadata": {},
     "output_type": "execute_result"
    }
   ],
   "source": [
    "X_train.shape"
   ]
  },
  {
   "cell_type": "code",
   "execution_count": 9,
   "id": "d55e1a4a-f9e1-42ef-9ccd-85b7e8b91a86",
   "metadata": {},
   "outputs": [
    {
     "data": {
      "text/plain": [
       "<matplotlib.image.AxesImage at 0x20ca54a2d30>"
      ]
     },
     "execution_count": 9,
     "metadata": {},
     "output_type": "execute_result"
    },
    {
     "data": {
      "image/png": "[encoded data removed]",
      "text/plain": [
       "<Figure size 640x480 with 1 Axes>"
      ]
     },
     "metadata": {},
     "output_type": "display_data"
    }
   ],
   "source": [
    "idx_random = random.randint(0, 60000)\n",
    "plt.imshow(X_train[idx_random])"
   ]
  },
  {
   "cell_type": "code",
   "execution_count": 16,
   "id": "d704cf8c-4a95-4ac2-b6a1-d5dd5e173306",
   "metadata": {},
   "outputs": [
    {
     "data": {
      "text/plain": [
       "(60000, 784)"
      ]
     },
     "execution_count": 16,
     "metadata": {},
     "output_type": "execute_result"
    }
   ],
   "source": [
    "#Tiền xử lý dữ liệu, chuyển hình ảnh đầu vào thành 1 chiều và chuẩn hóa thành 0 -> 1\n",
    "X_train = X_train.reshape(X_train.shape[0], X_train.shape[1] * X_train.shape[2])\n",
    "X_test = X_test.reshape(X_test.shape[0], X_test.shape[1] * X_test.shape[2])\n",
    "X_train = X_train.astype('float32')/255\n",
    "X_test = X_test.astype('float32')/255\n",
    "X_train.shape"
   ]
  },
  {
   "cell_type": "code",
   "execution_count": 18,
   "id": "37ecf3f0-5e34-4835-a4c4-b49fea5f1a75",
   "metadata": {},
   "outputs": [],
   "source": [
    "#Số chiều của vector \n",
    "z_dim = 100\n",
    "\n",
    "#Optimizer\n",
    "adam = Adam(learning_rate=0.0002, beta_1=0.5)"
   ]
  },
  {
   "cell_type": "code",
   "execution_count": 21,
   "id": "9fa669b3-ac7e-45dd-86e5-09588b55b2ba",
   "metadata": {},
   "outputs": [],
   "source": [
    "#Bộ sinh Generator: sinh ảnh giả từ vector ngẫu nhiên\n",
    "g = Sequential()\n",
    "g.add(Dense(256, input_dim=z_dim, activation=LeakyReLU(alpha=0.2)))\n",
    "g.add(Dense(256, activation=LeakyReLU(alpha=0.2)))\n",
    "g.add(Dense(256, activation=LeakyReLU(alpha=0.2)))\n",
    "g.add(Dense(X_train.shape[1], activation='sigmoid'))\n",
    "g.compile(loss='binary_crossentropy', optimizer=adam, metrics=['accuracy'])\n",
    "\n"
   ]
  },
  {
   "cell_type": "code",
   "execution_count": 32,
   "id": "bcb04569-2259-480d-be73-c4ab2aac04c9",
   "metadata": {},
   "outputs": [],
   "source": [
    "#Bộ kiểm duyệt Discriminator: kiểm định ảnh thật giả, ảnh thật -> 1, ảnh giả -> 0\n",
    "d = Sequential()\n",
    "d.add(Dense(1024, input_dim=X_train.shape[1], activation=LeakyReLU(alpha=0.2)))\n",
    "d.add(Dropout(0.3))\n",
    "d.add(Dense(512, activation=LeakyReLU(alpha=0.2)))\n",
    "d.add(Dropout(0.3))\n",
    "d.add(Dense(256, activation=LeakyReLU(alpha=0.2)))\n",
    "d.add(Dropout(0.3))\n",
    "\n",
    "# Hàm sigmoid cho bài toán binary classification\n",
    "d.add(Dense(1, activation='sigmoid'))\n",
    "d.compile(loss='binary_crossentropy', optimizer=adam, metrics=['accuracy'])\n"
   ]
  },
  {
   "cell_type": "code",
   "execution_count": null,
   "id": "f7197aea-9874-475f-9018-669a6a0bfd9a",
   "metadata": {},
   "outputs": [],
   "source": [
    "# Mô hình tổng hợp \n",
    "d.trainable = False\n",
    "inputs = Input(shape=(z_dim, ))\n",
    "hidden = g(inputs)\n",
    "output = d(hidden)\n",
    "gan = Model(inputs, output)\n",
    "gan.compile(loss='binary_crossentropy', optimizer=adam, metrics=['accuracy'])\n",
    "\n"
   ]
  },
  {
   "cell_type": "code",
   "execution_count": 26,
   "id": "be3c9b0b-8e91-4d89-a81f-d87f065ae2c3",
   "metadata": {},
   "outputs": [],
   "source": [
    "# Hàm vẽ loss function\n",
    "def plot_loss(losses):\n",
    "    d_loss = [v[0] for v in losses[\"D\"]]\n",
    "    g_loss = [v[0] for v in losses[\"G\"]]\n",
    "    plt.figure(figsize=(10,8))\n",
    "    plt.plot(d_loss, label=\"Discriminator loss\")\n",
    "    plt.plot(g_loss, label=\"Generator loss\")\n",
    "    plt.xlabel('Epochs')\n",
    "    plt.ylabel('Loss')\n",
    "    plt.legend()\n",
    "    plt.show()"
   ]
  },
  {
   "cell_type": "code",
   "execution_count": 30,
   "id": "1cdf7276-2647-4bd5-a119-27e6a0b09bed",
   "metadata": {},
   "outputs": [],
   "source": [
    "# Hàm vẽ sample từ Generator\n",
    "def plot_generated(n_ex=10, dim=(1, 10), figsize=(12, 2)):\n",
    "    noise = np.random.normal(0, 1, size=(n_ex, z_dim))\n",
    "    generated_images = g.predict(noise)\n",
    "    generated_images = generated_images.reshape(n_ex, 28, 28)\n",
    "    plt.figure(figsize=figsize)\n",
    "    for i in range(generated_images.shape[0]):\n",
    "        plt.subplot(dim[0], dim[1], i+1)\n",
    "        plt.imshow(generated_images[i], interpolation='nearest', cmap='gray_r')\n",
    "        plt.axis('off')\n",
    "    plt.tight_layout()\n",
    "    plt.show()"
   ]
  },
  {
   "cell_type": "code",
   "execution_count": 31,
   "id": "7e6ae231-1c97-41c7-9e13-dd6b0762612a",
   "metadata": {},
   "outputs": [],
   "source": [
    "# Lưu giá trị loss và accuracy của Discriminator và Generator\n",
    "losses = {\"D\": [], \"G\": []}"
   ]
  },
  {
   "cell_type": "code",
   "execution_count": null,
   "id": "755626db-eb72-4136-869c-66a55639367e",
   "metadata": {},
   "outputs": [],
   "source": [
    "def train(epochs=1, plt_frq=1, BATCH_SIZE=128):\n",
    "    batchCount = int(X_train.shape[0] / BATCH_SIZE)\n",
    "    print('Epochs:', epochs)\n",
    "    print('Batch size:', BATCH_SIZE)\n",
    "    print('Batches per epoch:', batchCount)\n",
    "    \n",
    "    for e in tqdm_notebook(range(1, epochs+1)):\n",
    "        if e == 1 or e%plt_frq == 0:\n",
    "            print('-'*15, 'Epoch %d' % e, '-'*15)\n",
    "        for _ in range(batchCount):\n",
    "            # Lấy 1 batch ngẫu nhiên từ tập hình ảnh đầu vào\n",
    "            img_real = X_train[np.random.randint(0, X_train.shape[0], size=BATCH_SIZE)\n",
    "\n",
    "            # Sinh ra 1 batch vector ngẫu nhiên làm đầu vào \n",
    "            noise = np.random.normal(0, 1, size=(BATCH_SIZE, z_dim))\n",
    "\n",
    "            # Dùng bộ generator sinh ra 1 batch hình ảnh ngẫu nhiên\n",
    "            img_fake = g.predict(noise)\n",
    "\n",
    "            # Tạo label cho ảnh thật và ảnh giả\n",
    "            y_real = np.ones(BATCH_SIZE)\n",
    "            y_fake = np.zeros(BATCH_SIZE)\n",
    "\n",
    "            # Huấn luyện bộ discriminator\n",
    "            d.trainable = True # Bật cập nhật tham số bộ discriminator\n",
    "            d_loss_real = d.train_on_batch(img_real, y_real)\n",
    "            d_loss_fake = d.train_on_batch(img_fake, y_fake)\n",
    "            d_loss = (d_loss_real + d_loss_fake) / 2\n",
    "\n",
    "            # Huấn luyện bộ generator\n",
    "            \n",
    "            # Sinh ra 1 batch vector ngẫu nhiên làm đầu vào \n",
    "            noise = np.random.normal(0, 1, size=(BATCH_SIZE, z_dim))\n",
    "            d.trainale = False # Tắt cập nhật tham số bộ discriminator\n",
    "            g_loss = gan.train_on_batch(noise, y_real)\n",
    "\n",
    "        # Lưu loss_function \n",
    "        losses[\"D\"].append(d_loss)\n",
    "        losses[\"G\"].append(g_loss)\n",
    "\n",
    "        # Vẽ các số được sinh ra để kiểm tra kết quả \n",
    "        if e == 1 or e%plt_frq == 0:\n",
    "            plot_generated()\n",
    "            \n",
    "    plot_loss(losses)\n"
   ]
  }
 ],
 "metadata": {
  "kernelspec": {
   "display_name": "Python 3 (ipykernel)",
   "language": "python",
   "name": "python3"
  },
  "language_info": {
   "codemirror_mode": {
    "name": "ipython",
    "version": 3
   },
   "file_extension": ".py",
   "mimetype": "text/x-python",
   "name": "python",
   "nbconvert_exporter": "python",
   "pygments_lexer": "ipython3",
   "version": "3.9.20"
  }
 },
 "nbformat": 4,
 "nbformat_minor": 5
}
